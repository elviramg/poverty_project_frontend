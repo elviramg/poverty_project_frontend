{
 "cells": [
  {
   "cell_type": "code",
   "execution_count": 43,
   "id": "963d9c6b",
   "metadata": {},
   "outputs": [],
   "source": [
    "import pandas as pd\n",
    "import matplotlib.pyplot as plt"
   ]
  },
  {
   "cell_type": "code",
   "execution_count": 44,
   "id": "b68b3db9",
   "metadata": {},
   "outputs": [],
   "source": [
    "def get_csv():\n",
    "    labor_pov = pd.read_csv(\"data/Labor_Poverty.csv\", index_col=0, parse_dates=True)\n",
    "    labor_pov = labor_pov.replace({\"ND\": None})\n",
    "    labor_pov = labor_pov.astype(float)\n",
    "\n",
    "    # Dictionary to map Spanish month abbreviations to English abbreviations\n",
    "    spanish_to_english_months = {\n",
    "        \"ene\": \"01\",\n",
    "        \"feb\": \"02\",\n",
    "        \"mar\": \"03\",\n",
    "        \"abr\": \"04\",\n",
    "        \"may\": \"05\",\n",
    "        \"jun\": \"06\",\n",
    "        \"jul\": \"07\",\n",
    "        \"ago\": \"08\",\n",
    "        \"sep\": \"09\",\n",
    "        \"oct\": \"10\",\n",
    "        \"nov\": \"11\",\n",
    "        \"dic\": \"12\",\n",
    "    }\n",
    "\n",
    "    # Convert month abbreviations to the desired format \"Jan-05\", \"Feb-05\", etc.\n",
    "    new_index = [spanish_to_english_months[month[:3]] + \"-\" + month[-2:] for month in labor_pov.index]\n",
    "    labor_pov.index = pd.to_datetime(new_index, format=\"%m-%y\")\n",
    "\n",
    "    return labor_pov"
   ]
  },
  {
   "cell_type": "code",
   "execution_count": 45,
   "id": "e7af7788",
   "metadata": {},
   "outputs": [],
   "source": [
    "data = get_csv()"
   ]
  },
  {
   "cell_type": "code",
   "execution_count": 46,
   "id": "6961effc",
   "metadata": {},
   "outputs": [
    {
     "name": "stdout",
     "output_type": "stream",
     "text": [
      "\n",
      "Index Data Type:\n",
      "<M8[ns]\n"
     ]
    }
   ],
   "source": [
    "print(\"\\nIndex Data Type:\")\n",
    "print(data.index.dtype.str)"
   ]
  },
  {
   "cell_type": "code",
   "execution_count": null,
   "id": "48b00761",
   "metadata": {},
   "outputs": [],
   "source": []
  }
 ],
 "metadata": {
  "kernelspec": {
   "display_name": "Python 3 (ipykernel)",
   "language": "python",
   "name": "python3"
  },
  "language_info": {
   "codemirror_mode": {
    "name": "ipython",
    "version": 3
   },
   "file_extension": ".py",
   "mimetype": "text/x-python",
   "name": "python",
   "nbconvert_exporter": "python",
   "pygments_lexer": "ipython3",
   "version": "3.10.6"
  },
  "toc": {
   "base_numbering": 1,
   "nav_menu": {},
   "number_sections": true,
   "sideBar": true,
   "skip_h1_title": false,
   "title_cell": "Table of Contents",
   "title_sidebar": "Contents",
   "toc_cell": false,
   "toc_position": {},
   "toc_section_display": true,
   "toc_window_display": false
  }
 },
 "nbformat": 4,
 "nbformat_minor": 5
}
